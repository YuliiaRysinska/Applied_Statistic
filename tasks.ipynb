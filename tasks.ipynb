{
 "cells": [
  {
   "cell_type": "markdown",
   "metadata": {},
   "source": [
    "# TASK 1: Permutations and Combinations\n",
    "###### Reference: https://betterexplained.com/articles/easy-permutations-and-combinations/"
   ]
  },
  {
   "cell_type": "markdown",
   "metadata": {},
   "source": [
    "#### Importing nessesary library\n",
    "###### Reference: https://docs.python.org/3/library/math.html#math.comb"
   ]
  },
  {
   "cell_type": "code",
   "execution_count": 119,
   "metadata": {},
   "outputs": [],
   "source": [
    "import math"
   ]
  },
  {
   "cell_type": "markdown",
   "metadata": {},
   "source": [
    "#### Creating variables with amount of Cups"
   ]
  },
  {
   "cell_type": "code",
   "execution_count": 120,
   "metadata": {},
   "outputs": [],
   "source": [
    "# Number of cups of tea in total.\n",
    "nom_cups = 12\n",
    "\n",
    "# Number of cups of tea with milk in first.\n",
    "nom_cups_milk_first = 6\n",
    "\n",
    "# Number of cups of tea with tea in first.\n",
    "nom_cups_tea_first = 6"
   ]
  },
  {
   "cell_type": "markdown",
   "metadata": {},
   "source": [
    "#### Use functions to calculate the number of ways to choose k elements from a set of n elements where the order of the chosen elements does not matter and no element is selected more than once"
   ]
  },
  {
   "cell_type": "code",
   "execution_count": 121,
   "metadata": {},
   "outputs": [
    {
     "data": {
      "text/plain": [
       "924"
      ]
     },
     "execution_count": 121,
     "metadata": {},
     "output_type": "execute_result"
    }
   ],
   "source": [
    "# Number of ways of selecting six cups from twelve.\n",
    "total_com = math.comb(nom_cups, nom_cups_milk_first)\n",
    "\n",
    "total_com"
   ]
  },
  {
   "cell_type": "code",
   "execution_count": 122,
   "metadata": {},
   "outputs": [],
   "source": [
    "# Number of cups of tea in total.\n",
    "n = 12\n",
    "\n",
    "# Number of cups of tea with milk in first.\n",
    "k = 6"
   ]
  },
  {
   "cell_type": "markdown",
   "metadata": {},
   "source": [
    "###### Reference: Type I and Type II errors: https://en.wikipedia.org/wiki/Type_I_and_type_II_errors#Table_of_error_types\n",
    "###### Power: https://en.wikipedia.org/wiki/Power_(statistics)#Description"
   ]
  },
  {
   "cell_type": "code",
   "execution_count": 123,
   "metadata": {},
   "outputs": [],
   "source": [
    "# Probability of no errors (choosing all 6 milk-first cups)\n",
    "prob_no_errors = 1 / total_com"
   ]
  },
  {
   "cell_type": "code",
   "execution_count": 124,
   "metadata": {},
   "outputs": [],
   "source": [
    "# Probability of one error (choosing 5 milk-first cups and 1 tea-first cup)\n",
    "choose_milk = math.comb(nom_cups_milk_first, 5)\n",
    "choose_tea = math.comb(nom_cups_tea_first, 1)\n",
    "prob_one_error = (choose_milk * choose_tea) / total_com"
   ]
  },
  {
   "cell_type": "code",
   "execution_count": 125,
   "metadata": {},
   "outputs": [],
   "source": [
    "# Total probability of at most one error\n",
    "prob_at_most_one_error = prob_no_errors + prob_one_error"
   ]
  },
  {
   "cell_type": "code",
   "execution_count": 126,
   "metadata": {},
   "outputs": [
    {
     "data": {
      "text/plain": [
       "924"
      ]
     },
     "execution_count": 126,
     "metadata": {},
     "output_type": "execute_result"
    }
   ],
   "source": [
    "# No of ways of selecting k objects from n without replacement and without order.\n",
    "math.factorial(n) // (math.factorial(k) * math.factorial(n - k))"
   ]
  },
  {
   "cell_type": "markdown",
   "metadata": {},
   "source": [
    "#### Conclusion: The probability of choosing first cup of milk is very low (1 of 924), so is unlikely lady will pick the correct cup. Accepting two errors would mean the person could still be right with 4 out of the 6 correct cups. The probability of achieving this would be calculated similarly by considering all combinations where 4 out of the 6 milk cups are chosen correctly and 2 out of the 6 tea cups are chosen incorrectly."
   ]
  },
  {
   "cell_type": "markdown",
   "metadata": {},
   "source": [
    "----------------------------------------------------"
   ]
  },
  {
   "cell_type": "markdown",
   "metadata": {},
   "source": [
    "# TASK 2. numpy's Normal Distribution\n",
    "\n",
    "##### Reference:\n",
    "###### https://www.khanacademy.org/math/statistics-probability/modeling-distributions-of-data/normal-distributions-library/a/normal-distributions-review\n",
    "###### https://en.wikipedia.org/wiki/Normal_distribution"
   ]
  },
  {
   "cell_type": "markdown",
   "metadata": {},
   "source": [
    "#### Import libraries\n",
    "###### Reference: # https://numpy.org\n",
    "###### https://matplotlib.org/3.5.3/api/_as_gen/matplotlib.pyplot.html\n",
    "###### https://docs.scipy.org/doc/scipy/reference/stats.html"
   ]
  },
  {
   "cell_type": "code",
   "execution_count": 127,
   "metadata": {},
   "outputs": [],
   "source": [
    "# Binomial distribution\n",
    "import numpy as np\n",
    "\n",
    "#Ploting\n",
    "import matplotlib.pyplot as plt\n",
    "\n",
    "#Statistical\n",
    "import scipy.stats as stats"
   ]
  },
  {
   "cell_type": "markdown",
   "metadata": {},
   "source": [
    "#### Generate data and parameters"
   ]
  },
  {
   "cell_type": "code",
   "execution_count": 128,
   "metadata": {},
   "outputs": [],
   "source": [
    "mean = 10.0\n",
    "std_dev = 3.0\n",
    "sample_size = 10000\n",
    "\n",
    "sample = np.random.normal(loc=mean, scale=std_dev, size=sample_size) "
   ]
  },
  {
   "cell_type": "markdown",
   "metadata": {},
   "source": [
    "#### Perform Shapiro test for Normal Distribution\n",
    "###### Reference:  https://docs.scipy.org/doc/scipy/reference/generated/scipy.stats.shapiro.html"
   ]
  },
  {
   "cell_type": "code",
   "execution_count": 129,
   "metadata": {},
   "outputs": [
    {
     "name": "stderr",
     "output_type": "stream",
     "text": [
      "/home/codespace/.local/lib/python3.12/site-packages/scipy/stats/_axis_nan_policy.py:573: UserWarning: scipy.stats.shapiro: For N > 5000, computed p-value may not be accurate. Current N is 10000.\n",
      "  res = hypotest_fun_out(*samples, **kwds)\n"
     ]
    }
   ],
   "source": [
    "shapiro_test = stats.shapiro(sample)"
   ]
  },
  {
   "cell_type": "markdown",
   "metadata": {},
   "source": [
    "#### Plot histogram\n",
    "###### Reference: https://www.w3schools.com/python/matplotlib_histograms.asp"
   ]
  },
  {
   "cell_type": "code",
   "execution_count": 130,
   "metadata": {},
   "outputs": [
    {
     "data": {
      "image/png": "[encoded data removed]",
      "text/plain": [
       "<Figure size 1000x600 with 1 Axes>"
      ]
     },
     "metadata": {},
     "output_type": "display_data"
    }
   ],
   "source": [
    "# Histogram of sample\n",
    "plt.figure(figsize=(10, 6))\n",
    "plt.hist(sample, bins=50, density=True, alpha=0.6, color='b', edgecolor='black', label=\"Sample Data\")\n",
    "\n",
    "# Overlay the corresponding normal distribution\n",
    "xmin, xmax = plt.xlim()\n",
    "x = np.linspace(xmin, xmax, 100)\n",
    "p = stats.norm.pdf(x, mean, std_dev)\n",
    "plt.plot(x, p, 'k', linewidth=2, label=\"Normal Distribution PDF\")\n",
    "\n",
    "plt.title(\"Histogram of Generated Sample with Normal PDF\")\n",
    "plt.xlabel(\"Value\")\n",
    "plt.ylabel(\"Probability Density\")\n",
    "plt.legend()\n",
    "\n",
    "# Display plot\n",
    "plt.show()"
   ]
  },
  {
   "cell_type": "markdown",
   "metadata": {},
   "source": [
    "#### Output result of Shapiro test"
   ]
  },
  {
   "cell_type": "code",
   "execution_count": 131,
   "metadata": {},
   "outputs": [
    {
     "data": {
      "text/plain": [
       "ShapiroResult(statistic=np.float64(0.9998146575264124), pvalue=np.float64(0.5851169493894723))"
      ]
     },
     "execution_count": 131,
     "metadata": {},
     "output_type": "execute_result"
    }
   ],
   "source": [
    "shapiro_test"
   ]
  },
  {
   "cell_type": "markdown",
   "metadata": {},
   "source": [
    "### Conclusion:\n",
    "##### The Shapiro test for normality on the generated sample of 100,000 values returned the following results: Test statistic: 0.99997,p-value: 0.88216. The high test statistic and a p-value greater than 0.05 suggest that we fail to reject the null hypothesis of the Shapiro test, which means that the sample is consistent with having been drawn from a normal distribution. Histogram is overlaid with probability density function (PDF) of a normal distribution with a mean of 10.0 and a standard deviation of 3.0. The close match between the histogram and the PDF further supports that the sample closely follows a normal distribution. ​"
   ]
  },
  {
   "cell_type": "markdown",
   "metadata": {},
   "source": [
    "------------------------------------------"
   ]
  },
  {
   "cell_type": "markdown",
   "metadata": {},
   "source": [
    "# TASK 3. t-Test Calculation"
   ]
  }
 ],
 "metadata": {
  "kernelspec": {
   "display_name": "Python 3",
   "language": "python",
   "name": "python3"
  },
  "language_info": {
   "codemirror_mode": {
    "name": "ipython",
    "version": 3
   },
   "file_extension": ".py",
   "mimetype": "text/x-python",
   "name": "python",
   "nbconvert_exporter": "python",
   "pygments_lexer": "ipython3",
   "version": "3.12.1"
  }
 },
 "nbformat": 4,
 "nbformat_minor": 2
}
